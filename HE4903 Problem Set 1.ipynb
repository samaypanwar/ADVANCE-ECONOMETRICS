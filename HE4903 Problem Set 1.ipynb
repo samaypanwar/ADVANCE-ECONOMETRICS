{
 "cells": [
  {
   "cell_type": "markdown",
   "metadata": {
    "pycharm": {
     "name": "#%% md\n"
    }
   },
   "source": [
    "# HE4903 Problem Set 1 Question 3\n",
    "\n",
    "SW (4e) Empirical Exercises E12.1 (part e for Problem Set 2)\n",
    "\n",
    "How does fertility affect labor supply? That is, how much does a woman’s labor supply fall when she has an additional child? In this exercise, you will estimate this effect using data for married women from the 1980 U.S. Census. The data are available on the text website, http://www.pearsonglobaleditions.com, in the file Fertility and described in the file Fertility_Description. The data set contains information on married women aged 21–35 with two or more children."
   ]
  },
  {
   "cell_type": "code",
   "execution_count": 2,
   "metadata": {
    "pycharm": {
     "name": "#%%\n"
    }
   },
   "outputs": [],
   "source": [
    "# Import relevant libraries\n",
    "import numpy as np\n",
    "import pandas as pd\n",
    "import statsmodels.api as sm"
   ]
  },
  {
   "cell_type": "code",
   "execution_count": 3,
   "metadata": {
    "pycharm": {
     "name": "#%%\n"
    }
   },
   "outputs": [
    {
     "data": {
      "text/plain": "   morekids  boy1st  boy2nd  samesex  agem1  black  hispan  othrace  weeksm1\n0         0       1       0        0     27      0       0        0        0\n1         0       0       1        0     30      0       0        0       30\n2         0       1       0        0     27      0       0        0        0\n3         0       1       0        0     35      1       0        0        0\n4         0       0       0        1     30      0       0        0       22",
      "text/html": "<div>\n<style scoped>\n    .dataframe tbody tr th:only-of-type {\n        vertical-align: middle;\n    }\n\n    .dataframe tbody tr th {\n        vertical-align: top;\n    }\n\n    .dataframe thead th {\n        text-align: right;\n    }\n</style>\n<table border=\"1\" class=\"dataframe\">\n  <thead>\n    <tr style=\"text-align: right;\">\n      <th></th>\n      <th>morekids</th>\n      <th>boy1st</th>\n      <th>boy2nd</th>\n      <th>samesex</th>\n      <th>agem1</th>\n      <th>black</th>\n      <th>hispan</th>\n      <th>othrace</th>\n      <th>weeksm1</th>\n    </tr>\n  </thead>\n  <tbody>\n    <tr>\n      <th>0</th>\n      <td>0</td>\n      <td>1</td>\n      <td>0</td>\n      <td>0</td>\n      <td>27</td>\n      <td>0</td>\n      <td>0</td>\n      <td>0</td>\n      <td>0</td>\n    </tr>\n    <tr>\n      <th>1</th>\n      <td>0</td>\n      <td>0</td>\n      <td>1</td>\n      <td>0</td>\n      <td>30</td>\n      <td>0</td>\n      <td>0</td>\n      <td>0</td>\n      <td>30</td>\n    </tr>\n    <tr>\n      <th>2</th>\n      <td>0</td>\n      <td>1</td>\n      <td>0</td>\n      <td>0</td>\n      <td>27</td>\n      <td>0</td>\n      <td>0</td>\n      <td>0</td>\n      <td>0</td>\n    </tr>\n    <tr>\n      <th>3</th>\n      <td>0</td>\n      <td>1</td>\n      <td>0</td>\n      <td>0</td>\n      <td>35</td>\n      <td>1</td>\n      <td>0</td>\n      <td>0</td>\n      <td>0</td>\n    </tr>\n    <tr>\n      <th>4</th>\n      <td>0</td>\n      <td>0</td>\n      <td>0</td>\n      <td>1</td>\n      <td>30</td>\n      <td>0</td>\n      <td>0</td>\n      <td>0</td>\n      <td>22</td>\n    </tr>\n  </tbody>\n</table>\n</div>"
     },
     "execution_count": 3,
     "metadata": {},
     "output_type": "execute_result"
    }
   ],
   "source": [
    "# Open fertility dataset and visualise data\n",
    "df = pd.read_stata(\"fertility.dta\")\n",
    "df.head()"
   ]
  },
  {
   "cell_type": "markdown",
   "metadata": {
    "pycharm": {
     "name": "#%% md\n"
    }
   },
   "source": [
    "## a. Regress weeksworked on the indicator variable morekids, using OLS. On average, do women with more than two children work less than women with two children? How much less?"
   ]
  },
  {
   "cell_type": "code",
   "execution_count": 4,
   "metadata": {
    "pycharm": {
     "name": "#%%\n"
    }
   },
   "outputs": [
    {
     "name": "stdout",
     "output_type": "stream",
     "text": [
      "                            OLS Regression Results                            \n",
      "==============================================================================\n",
      "Dep. Variable:                weeksm1   R-squared:                       0.014\n",
      "Model:                            OLS   Adj. R-squared:                  0.014\n",
      "Method:                 Least Squares   F-statistic:                     3821.\n",
      "Date:                Mon, 16 Jan 2023   Prob (F-statistic):               0.00\n",
      "Time:                        18:32:32   Log-Likelihood:            -1.1451e+06\n",
      "No. Observations:              254654   AIC:                         2.290e+06\n",
      "Df Residuals:                  254652   BIC:                         2.290e+06\n",
      "Df Model:                           1                                         \n",
      "Covariance Type:                  HC0                                         \n",
      "==============================================================================\n",
      "                 coef    std err          t      P>|t|      [0.025      0.975]\n",
      "------------------------------------------------------------------------------\n",
      "const         21.0684      0.056    375.766      0.000      20.959      21.178\n",
      "morekids      -5.3870      0.087    -61.814      0.000      -5.558      -5.216\n",
      "==============================================================================\n",
      "Omnibus:                  1921554.195   Durbin-Watson:                   1.927\n",
      "Prob(Omnibus):                  0.000   Jarque-Bera (JB):            33549.325\n",
      "Skew:                           0.525   Prob(JB):                         0.00\n",
      "Kurtosis:                       1.564   Cond. No.                         2.43\n",
      "==============================================================================\n",
      "\n",
      "Notes:\n",
      "[1] Standard Errors are heteroscedasticity robust (HC0)\n"
     ]
    }
   ],
   "source": [
    "y = df[\"weeksm1\"]\n",
    "X = sm.add_constant(df[\"morekids\"])\n",
    "mod = sm.OLS(y, X)\n",
    "res = mod.fit(cov_type = \"HC0\", use_t = True)\n",
    "print(res.summary())"
   ]
  },
  {
   "cell_type": "markdown",
   "metadata": {
    "pycharm": {
     "name": "#%% md\n"
    }
   },
   "source": [
    "On average, women with more than 2 children worked 5.3870 weeks less than women with less than 2 children."
   ]
  },
  {
   "cell_type": "markdown",
   "metadata": {
    "pycharm": {
     "name": "#%% md\n"
    }
   },
   "source": [
    "## b. Explain why the OLS regression estimated in (a) is inappropriate for estimating the causal effect of fertility (morekids) on labor supply (weeksworked).\n",
    "\n",
    "The OLS regression in (a) is inappropriate for measuring the causal effect of fertility (morekids) on labor supply (weeksm1) because simultaneous causality exists; fertility affects labor supply in that having more kids may be associated with mothers working less, and labor supply may affect fertility in that working less hours may allow mothers to have more kids. Fertility (morekids) is thus an endogenous variable and the reported coefficient is biased and inconsistent."
   ]
  },
  {
   "cell_type": "markdown",
   "metadata": {
    "pycharm": {
     "name": "#%% md\n"
    }
   },
   "source": [
    "## c. The data set contains the variable samesex, which is equal to 1 if the first two children are of the same sex (boy–boy or girl–girl) and equal to 0 otherwise. Are couples whose first two children are of the same sex more likely to have a third child? Is the effect large? Is it statistically significant?"
   ]
  },
  {
   "cell_type": "code",
   "execution_count": 5,
   "metadata": {
    "pycharm": {
     "name": "#%%\n"
    }
   },
   "outputs": [
    {
     "name": "stdout",
     "output_type": "stream",
     "text": [
      "                            OLS Regression Results                            \n",
      "==============================================================================\n",
      "Dep. Variable:               morekids   R-squared:                       0.005\n",
      "Model:                            OLS   Adj. R-squared:                  0.005\n",
      "Method:                 Least Squares   F-statistic:                     1238.\n",
      "Date:                Mon, 16 Jan 2023   Prob (F-statistic):          1.38e-270\n",
      "Time:                        18:32:36   Log-Likelihood:            -1.7673e+05\n",
      "No. Observations:              254654   AIC:                         3.535e+05\n",
      "Df Residuals:                  254652   BIC:                         3.535e+05\n",
      "Df Model:                           1                                         \n",
      "Covariance Type:                  HC0                                         \n",
      "==============================================================================\n",
      "                 coef    std err          t      P>|t|      [0.025      0.975]\n",
      "------------------------------------------------------------------------------\n",
      "const          0.3464      0.001    258.336      0.000       0.344       0.349\n",
      "samesex        0.0675      0.002     35.188      0.000       0.064       0.071\n",
      "==============================================================================\n",
      "Omnibus:                  1057523.438   Durbin-Watson:                   1.949\n",
      "Prob(Omnibus):                  0.000   Jarque-Bera (JB):            42280.951\n",
      "Skew:                           0.488   Prob(JB):                         0.00\n",
      "Kurtosis:                       1.259   Cond. No.                         2.63\n",
      "==============================================================================\n",
      "\n",
      "Notes:\n",
      "[1] Standard Errors are heteroscedasticity robust (HC0)\n"
     ]
    }
   ],
   "source": [
    "y2 = df[\"morekids\"]\n",
    "X2 = sm.add_constant(df[\"samesex\"])\n",
    "mod2 = sm.OLS(y2, X2)\n",
    "res2 = mod2.fit(cov_type = \"HC0\", use_t = True)\n",
    "print(res2.summary())"
   ]
  },
  {
   "cell_type": "markdown",
   "metadata": {
    "pycharm": {
     "name": "#%% md\n"
    }
   },
   "source": [
    "Couples whose first two children are of the same sex are more likely to have more than 2 children. The effect is not large (6.75% more likely) and statistically significant, as evidenced by a low p-value of 0.000."
   ]
  },
  {
   "cell_type": "markdown",
   "metadata": {
    "pycharm": {
     "name": "#%% md\n"
    }
   },
   "source": [
    "## d. Explain why samesex is a valid instrument for the IV regression of weeksworked on morekids.\n",
    "\n",
    "samesex is a valid instrument for morekids as it exhibits instrument relevance, being correlated to morekids (the regressor) and exhibiting instrument exogeneity, being uncorrelated to the error term in the regression framework for weeksm1 because there is no reason to believe that whether a mother's first two children are of the same sex is correlated with the error term for the regression for the number of weeks she works."
   ]
  },
  {
   "cell_type": "markdown",
   "metadata": {
    "pycharm": {
     "name": "#%% md\n"
    }
   },
   "source": [
    "## f. Estimate the IV regression of weeksworked on morekids, using samesex as an instrument. How large is the fertility effect on labor supply?"
   ]
  },
  {
   "cell_type": "code",
   "execution_count": 6,
   "metadata": {
    "pycharm": {
     "name": "#%%\n"
    }
   },
   "outputs": [
    {
     "name": "stdout",
     "output_type": "stream",
     "text": [
      "                          IV2SLS Regression Results                           \n",
      "==============================================================================\n",
      "Dep. Variable:                weeksm1   R-squared:                       0.014\n",
      "Model:                         IV2SLS   Adj. R-squared:                  0.014\n",
      "Method:                     Two Stage   F-statistic:                     24.54\n",
      "                        Least Squares   Prob (F-statistic):           7.30e-07\n",
      "Date:                Mon, 16 Jan 2023                                         \n",
      "Time:                        18:32:40                                         \n",
      "No. Observations:              254654                                         \n",
      "Df Residuals:                  254652                                         \n",
      "Df Model:                           1                                         \n",
      "==============================================================================\n",
      "                 coef    std err          t      P>|t|      [0.025      0.975]\n",
      "------------------------------------------------------------------------------\n",
      "const         21.4211      0.487     43.988      0.000      20.467      22.376\n",
      "morekids      -6.3137      1.275     -4.953      0.000      -8.812      -3.815\n",
      "==============================================================================\n",
      "Omnibus:                  2068953.554   Durbin-Watson:                   1.927\n",
      "Prob(Omnibus):                  0.000   Jarque-Bera (JB):            32899.911\n",
      "Skew:                           0.520   Prob(JB):                         0.00\n",
      "Kurtosis:                       1.579   Cond. No.                         2.43\n",
      "==============================================================================\n"
     ]
    }
   ],
   "source": [
    "y3 = df[\"weeksm1\"]\n",
    "X3 = sm.add_constant(df[\"morekids\"])\n",
    "instrument = sm.add_constant(df[\"samesex\"])\n",
    "\n",
    "from statsmodels.sandbox.regression.gmm import IV2SLS\n",
    "\n",
    "mod3 = IV2SLS(y3, X3, instrument = instrument)\n",
    "res3 = mod3.fit()\n",
    "print(res3.summary())"
   ]
  },
  {
   "cell_type": "markdown",
   "metadata": {
    "pycharm": {
     "name": "#%% md\n"
    }
   },
   "source": [
    "On average, women with more than 2 children worked 6.3137 weeks less than women with less than 2 children."
   ]
  },
  {
   "cell_type": "markdown",
   "metadata": {
    "pycharm": {
     "name": "#%% md\n"
    }
   },
   "source": [
    "## g. Do the results change when you include the variables agem1, black, hispan, and othrace in the labor supply regression (treating these variable as exogenous)? Explain why or why not."
   ]
  },
  {
   "cell_type": "code",
   "execution_count": 7,
   "metadata": {
    "pycharm": {
     "name": "#%%\n"
    }
   },
   "outputs": [
    {
     "name": "stdout",
     "output_type": "stream",
     "text": [
      "                          IV2SLS Regression Results                           \n",
      "==============================================================================\n",
      "Dep. Variable:                weeksm1   R-squared:                       0.044\n",
      "Model:                         IV2SLS   Adj. R-squared:                  0.044\n",
      "Method:                     Two Stage   F-statistic:                     1335.\n",
      "                        Least Squares   Prob (F-statistic):               0.00\n",
      "Date:                Mon, 16 Jan 2023                                         \n",
      "Time:                        18:32:44                                         \n",
      "No. Observations:              254654                                         \n",
      "Df Residuals:                  254648                                         \n",
      "Df Model:                           5                                         \n",
      "==============================================================================\n",
      "                 coef    std err          t      P>|t|      [0.025      0.975]\n",
      "------------------------------------------------------------------------------\n",
      "const         -4.7919      0.407    -11.786      0.000      -5.589      -3.995\n",
      "morekids      -5.8211      1.246     -4.671      0.000      -8.264      -3.378\n",
      "agem1          0.8316      0.023     36.336      0.000       0.787       0.876\n",
      "black         11.6233      0.229     50.772      0.000      11.175      12.072\n",
      "hispan         0.4042      0.260      1.555      0.120      -0.105       0.913\n",
      "othrace        2.1310      0.206     10.352      0.000       1.727       2.534\n",
      "==============================================================================\n",
      "Omnibus:                  4042198.873   Durbin-Watson:                   1.927\n",
      "Prob(Omnibus):                  0.000   Jarque-Bera (JB):            30308.091\n",
      "Skew:                           0.504   Prob(JB):                         0.00\n",
      "Kurtosis:                       1.644   Cond. No.                         279.\n",
      "==============================================================================\n"
     ]
    }
   ],
   "source": [
    "y4 = df[\"weeksm1\"]\n",
    "X4 = sm.add_constant(df[[\"morekids\", \"agem1\", \"black\", \"hispan\", \"othrace\"]])\n",
    "instrument = sm.add_constant(df[[\"samesex\", \"agem1\", \"black\", \"hispan\", \"othrace\"]])\n",
    "\n",
    "from statsmodels.sandbox.regression.gmm import IV2SLS\n",
    "\n",
    "mod4 = IV2SLS(y4, X4, instrument = instrument)\n",
    "res4 = mod4.fit()\n",
    "print(res4.summary())"
   ]
  },
  {
   "cell_type": "markdown",
   "metadata": {
    "pycharm": {
     "name": "#%% md\n"
    }
   },
   "source": [
    "The results change when the other variables are added as there are more instruments for morekids. This is likely to lead to a more accurate coefficient estimate."
   ]
  },
  {
   "cell_type": "markdown",
   "metadata": {
    "pycharm": {
     "name": "#%% md\n"
    }
   },
   "source": [
    "## References\n",
    "\n",
    "https://www.statsmodels.org/stable/regression.html\n",
    "https://stackoverflow.com/questions/20701484/why-do-i-get-only-one-parameter-from-a-statsmodels-ols-fit\n",
    "https://www.kaggle.com/code/carloscinelli/stat-504-robust-standard-errors-python\n",
    "https://www.statsmodels.org/dev/generated/statsmodels.sandbox.regression.gmm.IV2SLS.html\n",
    "https://bfdykstra.github.io/2016/11/17/Endogeneity-and-Instrumental-Variable-Regression.html"
   ]
  },
  {
   "cell_type": "code",
   "execution_count": null,
   "metadata": {
    "pycharm": {
     "name": "#%%\n"
    }
   },
   "outputs": [],
   "source": []
  }
 ],
 "metadata": {
  "kernelspec": {
   "display_name": "Python 3",
   "language": "python",
   "name": "python3"
  },
  "language_info": {
   "codemirror_mode": {
    "name": "ipython",
    "version": 3
   },
   "file_extension": ".py",
   "mimetype": "text/x-python",
   "name": "python",
   "nbconvert_exporter": "python",
   "pygments_lexer": "ipython3",
   "version": "3.8.3"
  }
 },
 "nbformat": 4,
 "nbformat_minor": 4
}